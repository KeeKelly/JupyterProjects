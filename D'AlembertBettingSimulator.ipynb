{
 "cells": [
  {
   "cell_type": "code",
   "execution_count": null,
   "metadata": {},
   "outputs": [],
   "source": [
    "##达朗贝尔投注\n",
    "import numpy as np\n",
    "import matplotlib.pyplot as plt\n",
    "import random\n",
    "\n",
    "rounds = range(200)\n",
    "\n",
    "def f(principal=100, base_toss=2):\n",
    "    total = principal\n",
    "    rounds_of_total = np.zeros(200)\n",
    "    cash = base_toss\n",
    "    for i in range(200):\n",
    "        if random.randint(0,1):\n",
    "            total += cash\n",
    "            if cash > base_toss:\n",
    "                cash -= base_toss\n",
    "        else:\n",
    "            total -= cash\n",
    "            if total <= 0:\n",
    "                total = 0\n",
    "                cash = 0\n",
    "            cash += base_toss\n",
    "        rounds_of_total[i] = total\n",
    "    plt.plot(rounds, rounds_of_total)\n",
    "f()\n",
    "f()\n",
    "f()\n",
    "f()"
   ]
  }
 ],
 "metadata": {
  "kernelspec": {
   "display_name": "Python 3",
   "language": "python",
   "name": "python3"
  },
  "language_info": {
   "codemirror_mode": {
    "name": "ipython",
    "version": 3
   },
   "file_extension": ".py",
   "mimetype": "text/x-python",
   "name": "python",
   "nbconvert_exporter": "python",
   "pygments_lexer": "ipython3",
   "version": "3.7.3"
  }
 },
 "nbformat": 4,
 "nbformat_minor": 2
}
