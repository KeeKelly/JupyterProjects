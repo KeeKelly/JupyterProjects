{
 "cells": [
  {
   "cell_type": "code",
   "execution_count": null,
   "metadata": {},
   "outputs": [],
   "source": [
    "##均投\n",
    "import numpy as np\n",
    "import matplotlib.pyplot as plt\n",
    "import random\n",
    "x = range(200)\n",
    "def f():\n",
    "    xx = np.zeros(200)\n",
    "    v = 100\n",
    "    for i in range(200):\n",
    "        if random.randint(0,1):\n",
    "            v += 1\n",
    "        else:\n",
    "            v -= 1\n",
    "        xx[i] = v\n",
    "    plt.plot(x, xx)\n",
    "f()\n",
    "f()\n",
    "f()\n",
    "f()\n"
   ]
  }
 ],
 "metadata": {
  "kernelspec": {
   "display_name": "Python 3",
   "language": "python",
   "name": "python3"
  },
  "language_info": {
   "codemirror_mode": {
    "name": "ipython",
    "version": 3
   },
   "file_extension": ".py",
   "mimetype": "text/x-python",
   "name": "python",
   "nbconvert_exporter": "python",
   "pygments_lexer": "ipython3",
   "version": "3.7.3"
  }
 },
 "nbformat": 4,
 "nbformat_minor": 2
}
