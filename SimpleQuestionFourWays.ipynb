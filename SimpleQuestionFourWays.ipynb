{
 "cells": [
  {
   "cell_type": "code",
   "execution_count": 1,
   "metadata": {},
   "outputs": [],
   "source": [
    "## A Simple Coding Question:\n",
    "## Write a piece of code that takes in a list, and add the elements pairwisely.\n",
    "## For example, given the input [1,2,3,4,5], it outputs [3,7,5]"
   ]
  },
  {
   "cell_type": "code",
   "execution_count": 2,
   "metadata": {},
   "outputs": [
    {
     "name": "stdout",
     "output_type": "stream",
     "text": [
      "[3, 7, 5]\n"
     ]
    }
   ],
   "source": [
    "## First try:\n",
    "def serial_adder(inputlst):\n",
    "    outputlst = []\n",
    "    for i in range(0,len(inputlst),2):\n",
    "        if i+1 == len(inputlst):\n",
    "            outputlst.append(inputlst[i])\n",
    "        else:\n",
    "            outputlst.append(inputlst[i]+inputlst[i+1])\n",
    "    return outputlst\n",
    "\n",
    "a = [1,2,3,4,5]\n",
    "print(serial_adder(a))"
   ]
  },
  {
   "cell_type": "code",
   "execution_count": 3,
   "metadata": {},
   "outputs": [
    {
     "name": "stdout",
     "output_type": "stream",
     "text": [
      "[3, 7, 5]\n"
     ]
    }
   ],
   "source": [
    "## What if \"range(?,?,2)\" is not allowed?\n",
    "## Second try:\n",
    "def serial_adder(inputlst):\n",
    "    outputlst = []\n",
    "    for i in range(int(len(inputlst)/2+0.5)):\n",
    "        if 2*i+1 == len(inputlst):\n",
    "            outputlst.append(inputlst[2*i])\n",
    "        else:\n",
    "            outputlst.append(inputlst[2*i]+inputlst[2*i+1])\n",
    "    return outputlst\n",
    "\n",
    "a = [1,2,3,4,5]\n",
    "print(serial_adder(a))"
   ]
  },
  {
   "cell_type": "code",
   "execution_count": 4,
   "metadata": {},
   "outputs": [
    {
     "name": "stdout",
     "output_type": "stream",
     "text": [
      "[3, 7, 5]\n"
     ]
    }
   ],
   "source": [
    "## \"+0.5\" looks messy\n",
    "## Third try:\n",
    "def serial_adder(inputlst):\n",
    "    outputlst = []\n",
    "    for i in range(int((len(inputlst)+1)/2)):\n",
    "        if 2*i+1 == len(inputlst):\n",
    "            outputlst.append(inputlst[2*i])\n",
    "        else:\n",
    "            outputlst.append(inputlst[2*i]+inputlst[2*i+1])\n",
    "    return outputlst\n",
    "\n",
    "a = [1,2,3,4,5]\n",
    "print(serial_adder(a))"
   ]
  },
  {
   "cell_type": "code",
   "execution_count": null,
   "metadata": {},
   "outputs": [],
   "source": [
    "## What if you are asked to use \"for v in lst\"?\n",
    "## Fourth try:\n",
    "def serial_adder(inputlst):\n",
    "    outputlst = []\n",
    "    flag = True\n",
    "    for v in inputlst:\n",
    "        if flag:\n",
    "            outputlst.append(v)\n",
    "            flag = False\n",
    "        else:\n",
    "            outputlst[-1] += v\n",
    "            flag = True\n",
    "    return outputlst\n",
    "\n",
    "a = [1,2,3,4,5]\n",
    "print(serial_adder(a))"
   ]
  }
 ],
 "metadata": {
  "kernelspec": {
   "display_name": "Python 3",
   "language": "python",
   "name": "python3"
  },
  "language_info": {
   "codemirror_mode": {
    "name": "ipython",
    "version": 3
   },
   "file_extension": ".py",
   "mimetype": "text/x-python",
   "name": "python",
   "nbconvert_exporter": "python",
   "pygments_lexer": "ipython3",
   "version": "3.7.3"
  }
 },
 "nbformat": 4,
 "nbformat_minor": 2
}
